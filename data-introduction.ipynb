{
 "cells": [
  {
   "cell_type": "markdown",
   "id": "5ce50bd4",
   "metadata": {
    "papermill": {
     "duration": 0.016323,
     "end_time": "2022-03-05T10:29:59.249647",
     "exception": false,
     "start_time": "2022-03-05T10:29:59.233324",
     "status": "completed"
    },
    "tags": []
   },
   "source": [
    "# Introduction to Happywhale competition\n",
    "\n",
    "We can have a first look at the [data](https://www.kaggle.com/c/happy-whale-and-dolphin/data) using the data explorer of Kaggle. We can see that images have different qualities ranging from a dorsal fin to a distant view of the back of the mammal.\n",
    "\n",
    "Let’s have a more complete view. First add the data through the Kaggle UI. They are afterwards located in */kaggle/input/happy-whale-and-dolphin* folder."
   ]
  },
  {
   "cell_type": "code",
   "execution_count": 1,
   "id": "031e9777",
   "metadata": {
    "_kg_hide-input": true,
    "execution": {
     "iopub.execute_input": "2022-03-05T10:29:59.284912Z",
     "iopub.status.busy": "2022-03-05T10:29:59.283161Z",
     "iopub.status.idle": "2022-03-05T10:30:00.111942Z",
     "shell.execute_reply": "2022-03-05T10:30:00.112479Z",
     "shell.execute_reply.started": "2022-03-05T10:14:00.638409Z"
    },
    "papermill": {
     "duration": 0.848527,
     "end_time": "2022-03-05T10:30:00.112771",
     "exception": false,
     "start_time": "2022-03-05T10:29:59.264244",
     "status": "completed"
    },
    "tags": []
   },
   "outputs": [
    {
     "name": "stdout",
     "output_type": "stream",
     "text": [
      "total 4668\r\n",
      "-rw-r--r-- 1 nobody nogroup 2404234 Feb  1 16:58 sample_submission.csv\r\n",
      "drwxr-xr-x 2 nobody nogroup       0 Feb  1 17:00 test_images\r\n",
      "-rw-r--r-- 1 nobody nogroup 2371769 Feb  1 17:00 train.csv\r\n",
      "drwxr-xr-x 2 nobody nogroup       0 Feb  1 17:04 train_images\r\n"
     ]
    }
   ],
   "source": [
    "!ls -l /kaggle/input/happy-whale-and-dolphin"
   ]
  },
  {
   "cell_type": "markdown",
   "id": "44ee2ce7",
   "metadata": {
    "papermill": {
     "duration": 0.012266,
     "end_time": "2022-03-05T10:30:00.139696",
     "exception": false,
     "start_time": "2022-03-05T10:30:00.127430",
     "status": "completed"
    },
    "tags": []
   },
   "source": [
    "## Data loading\n",
    "\n",
    "Let’s load the images metadata described in `train.csv` file. "
   ]
  },
  {
   "cell_type": "code",
   "execution_count": 2,
   "id": "e8955442",
   "metadata": {
    "_cell_guid": "b1076dfc-b9ad-4769-8c92-a6c4dae69d19",
    "_uuid": "8f2839f25d086af736a60e9eeb907d3b93b6e0e5",
    "execution": {
     "iopub.execute_input": "2022-03-05T10:30:00.169204Z",
     "iopub.status.busy": "2022-03-05T10:30:00.168231Z",
     "iopub.status.idle": "2022-03-05T10:30:00.280975Z",
     "shell.execute_reply": "2022-03-05T10:30:00.281486Z",
     "shell.execute_reply.started": "2022-03-05T10:14:01.414675Z"
    },
    "papermill": {
     "duration": 0.129207,
     "end_time": "2022-03-05T10:30:00.281653",
     "exception": false,
     "start_time": "2022-03-05T10:30:00.152446",
     "status": "completed"
    },
    "tags": []
   },
   "outputs": [
    {
     "data": {
      "text/html": [
       "<div>\n",
       "<style scoped>\n",
       "    .dataframe tbody tr th:only-of-type {\n",
       "        vertical-align: middle;\n",
       "    }\n",
       "\n",
       "    .dataframe tbody tr th {\n",
       "        vertical-align: top;\n",
       "    }\n",
       "\n",
       "    .dataframe thead th {\n",
       "        text-align: right;\n",
       "    }\n",
       "</style>\n",
       "<table border=\"1\" class=\"dataframe\">\n",
       "  <thead>\n",
       "    <tr style=\"text-align: right;\">\n",
       "      <th></th>\n",
       "      <th>image</th>\n",
       "      <th>species</th>\n",
       "      <th>individual_id</th>\n",
       "    </tr>\n",
       "  </thead>\n",
       "  <tbody>\n",
       "    <tr>\n",
       "      <th>0</th>\n",
       "      <td>00021adfb725ed.jpg</td>\n",
       "      <td>melon_headed_whale</td>\n",
       "      <td>cadddb1636b9</td>\n",
       "    </tr>\n",
       "    <tr>\n",
       "      <th>1</th>\n",
       "      <td>000562241d384d.jpg</td>\n",
       "      <td>humpback_whale</td>\n",
       "      <td>1a71fbb72250</td>\n",
       "    </tr>\n",
       "    <tr>\n",
       "      <th>2</th>\n",
       "      <td>0007c33415ce37.jpg</td>\n",
       "      <td>false_killer_whale</td>\n",
       "      <td>60008f293a2b</td>\n",
       "    </tr>\n",
       "    <tr>\n",
       "      <th>3</th>\n",
       "      <td>0007d9bca26a99.jpg</td>\n",
       "      <td>bottlenose_dolphin</td>\n",
       "      <td>4b00fe572063</td>\n",
       "    </tr>\n",
       "    <tr>\n",
       "      <th>4</th>\n",
       "      <td>00087baf5cef7a.jpg</td>\n",
       "      <td>humpback_whale</td>\n",
       "      <td>8e5253662392</td>\n",
       "    </tr>\n",
       "    <tr>\n",
       "      <th>...</th>\n",
       "      <td>...</td>\n",
       "      <td>...</td>\n",
       "      <td>...</td>\n",
       "    </tr>\n",
       "    <tr>\n",
       "      <th>51028</th>\n",
       "      <td>fff639a7a78b3f.jpg</td>\n",
       "      <td>beluga</td>\n",
       "      <td>5ac053677ed1</td>\n",
       "    </tr>\n",
       "    <tr>\n",
       "      <th>51029</th>\n",
       "      <td>fff8b32daff17e.jpg</td>\n",
       "      <td>cuviers_beaked_whale</td>\n",
       "      <td>1184686361b3</td>\n",
       "    </tr>\n",
       "    <tr>\n",
       "      <th>51030</th>\n",
       "      <td>fff94675cc1aef.jpg</td>\n",
       "      <td>blue_whale</td>\n",
       "      <td>5401612696b9</td>\n",
       "    </tr>\n",
       "    <tr>\n",
       "      <th>51031</th>\n",
       "      <td>fffbc5dd642d8c.jpg</td>\n",
       "      <td>beluga</td>\n",
       "      <td>4000b3d7c24e</td>\n",
       "    </tr>\n",
       "    <tr>\n",
       "      <th>51032</th>\n",
       "      <td>fffdcd42312777.jpg</td>\n",
       "      <td>bottlenose_dolphin</td>\n",
       "      <td>4ddb2eeb5efb</td>\n",
       "    </tr>\n",
       "  </tbody>\n",
       "</table>\n",
       "<p>51033 rows × 3 columns</p>\n",
       "</div>"
      ],
      "text/plain": [
       "                    image               species individual_id\n",
       "0      00021adfb725ed.jpg    melon_headed_whale  cadddb1636b9\n",
       "1      000562241d384d.jpg        humpback_whale  1a71fbb72250\n",
       "2      0007c33415ce37.jpg    false_killer_whale  60008f293a2b\n",
       "3      0007d9bca26a99.jpg    bottlenose_dolphin  4b00fe572063\n",
       "4      00087baf5cef7a.jpg        humpback_whale  8e5253662392\n",
       "...                   ...                   ...           ...\n",
       "51028  fff639a7a78b3f.jpg                beluga  5ac053677ed1\n",
       "51029  fff8b32daff17e.jpg  cuviers_beaked_whale  1184686361b3\n",
       "51030  fff94675cc1aef.jpg            blue_whale  5401612696b9\n",
       "51031  fffbc5dd642d8c.jpg                beluga  4000b3d7c24e\n",
       "51032  fffdcd42312777.jpg    bottlenose_dolphin  4ddb2eeb5efb\n",
       "\n",
       "[51033 rows x 3 columns]"
      ]
     },
     "execution_count": 2,
     "metadata": {},
     "output_type": "execute_result"
    }
   ],
   "source": [
    "import pandas as pd\n",
    "df = pd.read_csv(\"/kaggle/input/happy-whale-and-dolphin/train.csv\")\n",
    "df"
   ]
  },
  {
   "cell_type": "markdown",
   "id": "9bbaadf5",
   "metadata": {
    "papermill": {
     "duration": 0.014226,
     "end_time": "2022-03-05T10:30:00.309463",
     "exception": false,
     "start_time": "2022-03-05T10:30:00.295237",
     "status": "completed"
    },
    "tags": []
   },
   "source": [
    "We can notice that our train data describes 51 033 images with one ID field for the photography filename and 2 others fields. The latter describe the animal specy and which individual it is.\n",
    "\n",
    "## Counting images\n",
    "\n",
    "### Per individual"
   ]
  },
  {
   "cell_type": "code",
   "execution_count": 3,
   "id": "4423be6d",
   "metadata": {
    "execution": {
     "iopub.execute_input": "2022-03-05T10:30:00.340927Z",
     "iopub.status.busy": "2022-03-05T10:30:00.340011Z",
     "iopub.status.idle": "2022-03-05T10:30:00.386620Z",
     "shell.execute_reply": "2022-03-05T10:30:00.387239Z",
     "shell.execute_reply.started": "2022-03-05T10:14:01.502013Z"
    },
    "papermill": {
     "duration": 0.062973,
     "end_time": "2022-03-05T10:30:00.387416",
     "exception": false,
     "start_time": "2022-03-05T10:30:00.324443",
     "status": "completed"
    },
    "tags": []
   },
   "outputs": [
    {
     "data": {
      "text/html": [
       "<div>\n",
       "<style scoped>\n",
       "    .dataframe tbody tr th:only-of-type {\n",
       "        vertical-align: middle;\n",
       "    }\n",
       "\n",
       "    .dataframe tbody tr th {\n",
       "        vertical-align: top;\n",
       "    }\n",
       "\n",
       "    .dataframe thead th {\n",
       "        text-align: right;\n",
       "    }\n",
       "</style>\n",
       "<table border=\"1\" class=\"dataframe\">\n",
       "  <thead>\n",
       "    <tr style=\"text-align: right;\">\n",
       "      <th></th>\n",
       "      <th>images_count</th>\n",
       "    </tr>\n",
       "    <tr>\n",
       "      <th>individual_id</th>\n",
       "      <th></th>\n",
       "    </tr>\n",
       "  </thead>\n",
       "  <tbody>\n",
       "    <tr>\n",
       "      <th>0013f1f5f2f0</th>\n",
       "      <td>1</td>\n",
       "    </tr>\n",
       "    <tr>\n",
       "      <th>001618e0a31e</th>\n",
       "      <td>1</td>\n",
       "    </tr>\n",
       "    <tr>\n",
       "      <th>0018a0f40586</th>\n",
       "      <td>1</td>\n",
       "    </tr>\n",
       "    <tr>\n",
       "      <th>00191b9a2f6f</th>\n",
       "      <td>1</td>\n",
       "    </tr>\n",
       "    <tr>\n",
       "      <th>001a09e48b2d</th>\n",
       "      <td>4</td>\n",
       "    </tr>\n",
       "    <tr>\n",
       "      <th>...</th>\n",
       "      <td>...</td>\n",
       "    </tr>\n",
       "    <tr>\n",
       "      <th>fff35b58c591</th>\n",
       "      <td>1</td>\n",
       "    </tr>\n",
       "    <tr>\n",
       "      <th>fff591b41cce</th>\n",
       "      <td>4</td>\n",
       "    </tr>\n",
       "    <tr>\n",
       "      <th>fffb11ff4575</th>\n",
       "      <td>4</td>\n",
       "    </tr>\n",
       "    <tr>\n",
       "      <th>fffe15363b92</th>\n",
       "      <td>1</td>\n",
       "    </tr>\n",
       "    <tr>\n",
       "      <th>ffff6255f559</th>\n",
       "      <td>2</td>\n",
       "    </tr>\n",
       "  </tbody>\n",
       "</table>\n",
       "<p>15587 rows × 1 columns</p>\n",
       "</div>"
      ],
      "text/plain": [
       "               images_count\n",
       "individual_id              \n",
       "0013f1f5f2f0              1\n",
       "001618e0a31e              1\n",
       "0018a0f40586              1\n",
       "00191b9a2f6f              1\n",
       "001a09e48b2d              4\n",
       "...                     ...\n",
       "fff35b58c591              1\n",
       "fff591b41cce              4\n",
       "fffb11ff4575              4\n",
       "fffe15363b92              1\n",
       "ffff6255f559              2\n",
       "\n",
       "[15587 rows x 1 columns]"
      ]
     },
     "execution_count": 3,
     "metadata": {},
     "output_type": "execute_result"
    }
   ],
   "source": [
    "individuals = df.drop(columns = ['species']).groupby(['individual_id']).count().rename(columns = { 'image': 'images_count'})\n",
    "individuals"
   ]
  },
  {
   "cell_type": "code",
   "execution_count": 4,
   "id": "beef3813",
   "metadata": {
    "execution": {
     "iopub.execute_input": "2022-03-05T10:30:00.425830Z",
     "iopub.status.busy": "2022-03-05T10:30:00.424772Z",
     "iopub.status.idle": "2022-03-05T10:30:00.439114Z",
     "shell.execute_reply": "2022-03-05T10:30:00.439542Z",
     "shell.execute_reply.started": "2022-03-05T10:14:01.559954Z"
    },
    "papermill": {
     "duration": 0.037237,
     "end_time": "2022-03-05T10:30:00.439725",
     "exception": false,
     "start_time": "2022-03-05T10:30:00.402488",
     "status": "completed"
    },
    "tags": []
   },
   "outputs": [
    {
     "data": {
      "text/html": [
       "<div>\n",
       "<style scoped>\n",
       "    .dataframe tbody tr th:only-of-type {\n",
       "        vertical-align: middle;\n",
       "    }\n",
       "\n",
       "    .dataframe tbody tr th {\n",
       "        vertical-align: top;\n",
       "    }\n",
       "\n",
       "    .dataframe thead th {\n",
       "        text-align: right;\n",
       "    }\n",
       "</style>\n",
       "<table border=\"1\" class=\"dataframe\">\n",
       "  <thead>\n",
       "    <tr style=\"text-align: right;\">\n",
       "      <th></th>\n",
       "      <th>images_count</th>\n",
       "    </tr>\n",
       "  </thead>\n",
       "  <tbody>\n",
       "    <tr>\n",
       "      <th>count</th>\n",
       "      <td>15587.000000</td>\n",
       "    </tr>\n",
       "    <tr>\n",
       "      <th>mean</th>\n",
       "      <td>3.274075</td>\n",
       "    </tr>\n",
       "    <tr>\n",
       "      <th>std</th>\n",
       "      <td>9.242430</td>\n",
       "    </tr>\n",
       "    <tr>\n",
       "      <th>min</th>\n",
       "      <td>1.000000</td>\n",
       "    </tr>\n",
       "    <tr>\n",
       "      <th>25%</th>\n",
       "      <td>1.000000</td>\n",
       "    </tr>\n",
       "    <tr>\n",
       "      <th>50%</th>\n",
       "      <td>1.000000</td>\n",
       "    </tr>\n",
       "    <tr>\n",
       "      <th>75%</th>\n",
       "      <td>2.000000</td>\n",
       "    </tr>\n",
       "    <tr>\n",
       "      <th>max</th>\n",
       "      <td>400.000000</td>\n",
       "    </tr>\n",
       "  </tbody>\n",
       "</table>\n",
       "</div>"
      ],
      "text/plain": [
       "       images_count\n",
       "count  15587.000000\n",
       "mean       3.274075\n",
       "std        9.242430\n",
       "min        1.000000\n",
       "25%        1.000000\n",
       "50%        1.000000\n",
       "75%        2.000000\n",
       "max      400.000000"
      ]
     },
     "execution_count": 4,
     "metadata": {},
     "output_type": "execute_result"
    }
   ],
   "source": [
    "individuals.describe()"
   ]
  },
  {
   "cell_type": "code",
   "execution_count": 5,
   "id": "f93e3023",
   "metadata": {
    "execution": {
     "iopub.execute_input": "2022-03-05T10:30:00.474249Z",
     "iopub.status.busy": "2022-03-05T10:30:00.473558Z",
     "iopub.status.idle": "2022-03-05T10:30:00.697270Z",
     "shell.execute_reply": "2022-03-05T10:30:00.696652Z",
     "shell.execute_reply.started": "2022-03-05T10:19:43.595606Z"
    },
    "papermill": {
     "duration": 0.240308,
     "end_time": "2022-03-05T10:30:00.697414",
     "exception": false,
     "start_time": "2022-03-05T10:30:00.457106",
     "status": "completed"
    },
    "tags": []
   },
   "outputs": [
    {
     "data": {
      "image/png": "[encoded data removed]",
      "text/plain": [
       "<Figure size 432x288 with 1 Axes>"
      ]
     },
     "metadata": {
      "needs_background": "light"
     },
     "output_type": "display_data"
    }
   ],
   "source": [
    "from matplotlib import pyplot as plt\n",
    "plt.hist(individuals.images_count, density=True, facecolor='g', alpha=0.75)\n",
    "plt.show()"
   ]
  },
  {
   "cell_type": "markdown",
   "id": "658fa0b2",
   "metadata": {
    "papermill": {
     "duration": 0.015036,
     "end_time": "2022-03-05T10:30:00.727157",
     "exception": false,
     "start_time": "2022-03-05T10:30:00.712121",
     "status": "completed"
    },
    "tags": []
   },
   "source": [
    "The 51 033 pictures describe 15 887 individuals. The distribution is very skewed:\n",
    "- 75% of individuals have only one or two pictures\n",
    "- 400 pictures are dedicated to only one individual"
   ]
  },
  {
   "cell_type": "markdown",
   "id": "330f991e",
   "metadata": {
    "papermill": {
     "duration": 0.013976,
     "end_time": "2022-03-05T10:30:00.755327",
     "exception": false,
     "start_time": "2022-03-05T10:30:00.741351",
     "status": "completed"
    },
    "tags": []
   },
   "source": [
    "### Per specy\n",
    "\n",
    "We found 4 kind of species in data, all belonging to *Cetacea* infraorder. Except whales, the 3 other species come from the *Delphinidae* superfamily:\n",
    "\n",
    "2. Dolphin\n",
    "3. Beluga, or more commonly called **white whale**\n",
    "4. Globis, or more commonly called **pilot whale**"
   ]
  },
  {
   "cell_type": "code",
   "execution_count": 6,
   "id": "b975b245",
   "metadata": {
    "execution": {
     "iopub.execute_input": "2022-03-05T10:30:00.793113Z",
     "iopub.status.busy": "2022-03-05T10:30:00.792475Z",
     "iopub.status.idle": "2022-03-05T10:30:00.814892Z",
     "shell.execute_reply": "2022-03-05T10:30:00.815337Z",
     "shell.execute_reply.started": "2022-03-05T10:14:01.872669Z"
    },
    "papermill": {
     "duration": 0.045147,
     "end_time": "2022-03-05T10:30:00.815508",
     "exception": false,
     "start_time": "2022-03-05T10:30:00.770361",
     "status": "completed"
    },
    "tags": []
   },
   "outputs": [
    {
     "name": "stdout",
     "output_type": "stream",
     "text": [
      "(30, 1)\n"
     ]
    },
    {
     "data": {
      "text/html": [
       "<div>\n",
       "<style scoped>\n",
       "    .dataframe tbody tr th:only-of-type {\n",
       "        vertical-align: middle;\n",
       "    }\n",
       "\n",
       "    .dataframe tbody tr th {\n",
       "        vertical-align: top;\n",
       "    }\n",
       "\n",
       "    .dataframe thead th {\n",
       "        text-align: right;\n",
       "    }\n",
       "</style>\n",
       "<table border=\"1\" class=\"dataframe\">\n",
       "  <thead>\n",
       "    <tr style=\"text-align: right;\">\n",
       "      <th></th>\n",
       "      <th>images_count</th>\n",
       "    </tr>\n",
       "    <tr>\n",
       "      <th>species</th>\n",
       "      <th></th>\n",
       "    </tr>\n",
       "  </thead>\n",
       "  <tbody>\n",
       "    <tr>\n",
       "      <th>bottlenose_dolphin</th>\n",
       "      <td>9664</td>\n",
       "    </tr>\n",
       "    <tr>\n",
       "      <th>beluga</th>\n",
       "      <td>7443</td>\n",
       "    </tr>\n",
       "    <tr>\n",
       "      <th>humpback_whale</th>\n",
       "      <td>7392</td>\n",
       "    </tr>\n",
       "    <tr>\n",
       "      <th>blue_whale</th>\n",
       "      <td>4830</td>\n",
       "    </tr>\n",
       "    <tr>\n",
       "      <th>false_killer_whale</th>\n",
       "      <td>3326</td>\n",
       "    </tr>\n",
       "    <tr>\n",
       "      <th>dusky_dolphin</th>\n",
       "      <td>3139</td>\n",
       "    </tr>\n",
       "    <tr>\n",
       "      <th>spinner_dolphin</th>\n",
       "      <td>1700</td>\n",
       "    </tr>\n",
       "    <tr>\n",
       "      <th>melon_headed_whale</th>\n",
       "      <td>1689</td>\n",
       "    </tr>\n",
       "    <tr>\n",
       "      <th>minke_whale</th>\n",
       "      <td>1608</td>\n",
       "    </tr>\n",
       "    <tr>\n",
       "      <th>killer_whale</th>\n",
       "      <td>1493</td>\n",
       "    </tr>\n",
       "    <tr>\n",
       "      <th>fin_whale</th>\n",
       "      <td>1324</td>\n",
       "    </tr>\n",
       "    <tr>\n",
       "      <th>gray_whale</th>\n",
       "      <td>1123</td>\n",
       "    </tr>\n",
       "    <tr>\n",
       "      <th>bottlenose_dolpin</th>\n",
       "      <td>1117</td>\n",
       "    </tr>\n",
       "    <tr>\n",
       "      <th>kiler_whale</th>\n",
       "      <td>962</td>\n",
       "    </tr>\n",
       "    <tr>\n",
       "      <th>southern_right_whale</th>\n",
       "      <td>866</td>\n",
       "    </tr>\n",
       "    <tr>\n",
       "      <th>spotted_dolphin</th>\n",
       "      <td>490</td>\n",
       "    </tr>\n",
       "    <tr>\n",
       "      <th>sei_whale</th>\n",
       "      <td>428</td>\n",
       "    </tr>\n",
       "    <tr>\n",
       "      <th>short_finned_pilot_whale</th>\n",
       "      <td>367</td>\n",
       "    </tr>\n",
       "    <tr>\n",
       "      <th>common_dolphin</th>\n",
       "      <td>347</td>\n",
       "    </tr>\n",
       "    <tr>\n",
       "      <th>cuviers_beaked_whale</th>\n",
       "      <td>341</td>\n",
       "    </tr>\n",
       "    <tr>\n",
       "      <th>pilot_whale</th>\n",
       "      <td>262</td>\n",
       "    </tr>\n",
       "    <tr>\n",
       "      <th>long_finned_pilot_whale</th>\n",
       "      <td>238</td>\n",
       "    </tr>\n",
       "    <tr>\n",
       "      <th>white_sided_dolphin</th>\n",
       "      <td>229</td>\n",
       "    </tr>\n",
       "    <tr>\n",
       "      <th>brydes_whale</th>\n",
       "      <td>154</td>\n",
       "    </tr>\n",
       "    <tr>\n",
       "      <th>pantropic_spotted_dolphin</th>\n",
       "      <td>145</td>\n",
       "    </tr>\n",
       "    <tr>\n",
       "      <th>globis</th>\n",
       "      <td>116</td>\n",
       "    </tr>\n",
       "    <tr>\n",
       "      <th>commersons_dolphin</th>\n",
       "      <td>90</td>\n",
       "    </tr>\n",
       "    <tr>\n",
       "      <th>pygmy_killer_whale</th>\n",
       "      <td>76</td>\n",
       "    </tr>\n",
       "    <tr>\n",
       "      <th>rough_toothed_dolphin</th>\n",
       "      <td>60</td>\n",
       "    </tr>\n",
       "    <tr>\n",
       "      <th>frasiers_dolphin</th>\n",
       "      <td>14</td>\n",
       "    </tr>\n",
       "  </tbody>\n",
       "</table>\n",
       "</div>"
      ],
      "text/plain": [
       "                           images_count\n",
       "species                                \n",
       "bottlenose_dolphin                 9664\n",
       "beluga                             7443\n",
       "humpback_whale                     7392\n",
       "blue_whale                         4830\n",
       "false_killer_whale                 3326\n",
       "dusky_dolphin                      3139\n",
       "spinner_dolphin                    1700\n",
       "melon_headed_whale                 1689\n",
       "minke_whale                        1608\n",
       "killer_whale                       1493\n",
       "fin_whale                          1324\n",
       "gray_whale                         1123\n",
       "bottlenose_dolpin                  1117\n",
       "kiler_whale                         962\n",
       "southern_right_whale                866\n",
       "spotted_dolphin                     490\n",
       "sei_whale                           428\n",
       "short_finned_pilot_whale            367\n",
       "common_dolphin                      347\n",
       "cuviers_beaked_whale                341\n",
       "pilot_whale                         262\n",
       "long_finned_pilot_whale             238\n",
       "white_sided_dolphin                 229\n",
       "brydes_whale                        154\n",
       "pantropic_spotted_dolphin           145\n",
       "globis                              116\n",
       "commersons_dolphin                   90\n",
       "pygmy_killer_whale                   76\n",
       "rough_toothed_dolphin                60\n",
       "frasiers_dolphin                     14"
      ]
     },
     "execution_count": 6,
     "metadata": {},
     "output_type": "execute_result"
    }
   ],
   "source": [
    "species = df.drop(columns = ['individual_id']).groupby(['species']).count().rename(columns = { 'image': 'images_count'}).sort_values(by = ['images_count'], ascending = False)\n",
    "print(species.shape)\n",
    "species"
   ]
  },
  {
   "cell_type": "code",
   "execution_count": 7,
   "id": "b5ac8ee5",
   "metadata": {
    "execution": {
     "iopub.execute_input": "2022-03-05T10:30:00.851776Z",
     "iopub.status.busy": "2022-03-05T10:30:00.851202Z",
     "iopub.status.idle": "2022-03-05T10:30:00.862042Z",
     "shell.execute_reply": "2022-03-05T10:30:00.861518Z",
     "shell.execute_reply.started": "2022-03-05T10:14:01.906284Z"
    },
    "papermill": {
     "duration": 0.031546,
     "end_time": "2022-03-05T10:30:00.862189",
     "exception": false,
     "start_time": "2022-03-05T10:30:00.830643",
     "status": "completed"
    },
    "tags": []
   },
   "outputs": [
    {
     "data": {
      "text/html": [
       "<div>\n",
       "<style scoped>\n",
       "    .dataframe tbody tr th:only-of-type {\n",
       "        vertical-align: middle;\n",
       "    }\n",
       "\n",
       "    .dataframe tbody tr th {\n",
       "        vertical-align: top;\n",
       "    }\n",
       "\n",
       "    .dataframe thead th {\n",
       "        text-align: right;\n",
       "    }\n",
       "</style>\n",
       "<table border=\"1\" class=\"dataframe\">\n",
       "  <thead>\n",
       "    <tr style=\"text-align: right;\">\n",
       "      <th></th>\n",
       "      <th>images_count</th>\n",
       "    </tr>\n",
       "  </thead>\n",
       "  <tbody>\n",
       "    <tr>\n",
       "      <th>count</th>\n",
       "      <td>30.000000</td>\n",
       "    </tr>\n",
       "    <tr>\n",
       "      <th>mean</th>\n",
       "      <td>1701.100000</td>\n",
       "    </tr>\n",
       "    <tr>\n",
       "      <th>std</th>\n",
       "      <td>2480.322273</td>\n",
       "    </tr>\n",
       "    <tr>\n",
       "      <th>min</th>\n",
       "      <td>14.000000</td>\n",
       "    </tr>\n",
       "    <tr>\n",
       "      <th>25%</th>\n",
       "      <td>231.250000</td>\n",
       "    </tr>\n",
       "    <tr>\n",
       "      <th>50%</th>\n",
       "      <td>678.000000</td>\n",
       "    </tr>\n",
       "    <tr>\n",
       "      <th>75%</th>\n",
       "      <td>1668.750000</td>\n",
       "    </tr>\n",
       "    <tr>\n",
       "      <th>max</th>\n",
       "      <td>9664.000000</td>\n",
       "    </tr>\n",
       "  </tbody>\n",
       "</table>\n",
       "</div>"
      ],
      "text/plain": [
       "       images_count\n",
       "count     30.000000\n",
       "mean    1701.100000\n",
       "std     2480.322273\n",
       "min       14.000000\n",
       "25%      231.250000\n",
       "50%      678.000000\n",
       "75%     1668.750000\n",
       "max     9664.000000"
      ]
     },
     "execution_count": 7,
     "metadata": {},
     "output_type": "execute_result"
    }
   ],
   "source": [
    "species.describe()"
   ]
  },
  {
   "cell_type": "code",
   "execution_count": 8,
   "id": "7a393f42",
   "metadata": {
    "execution": {
     "iopub.execute_input": "2022-03-05T10:30:00.899028Z",
     "iopub.status.busy": "2022-03-05T10:30:00.898412Z",
     "iopub.status.idle": "2022-03-05T10:30:01.205922Z",
     "shell.execute_reply": "2022-03-05T10:30:01.205320Z",
     "shell.execute_reply.started": "2022-03-05T10:14:01.922632Z"
    },
    "papermill": {
     "duration": 0.326025,
     "end_time": "2022-03-05T10:30:01.206086",
     "exception": false,
     "start_time": "2022-03-05T10:30:00.880061",
     "status": "completed"
    },
    "tags": []
   },
   "outputs": [
    {
     "data": {
      "image/png": "[encoded data removed]",
      "text/plain": [
       "<Figure size 432x288 with 1 Axes>"
      ]
     },
     "metadata": {
      "needs_background": "light"
     },
     "output_type": "display_data"
    }
   ],
   "source": [
    "plt.hist(species.images_count, density=True, facecolor='g', alpha=0.75)\n",
    "plt.show()"
   ]
  },
  {
   "cell_type": "markdown",
   "id": "9438fd4d",
   "metadata": {
    "papermill": {
     "duration": 0.017154,
     "end_time": "2022-03-05T10:30:01.240612",
     "exception": false,
     "start_time": "2022-03-05T10:30:01.223458",
     "status": "completed"
    },
    "tags": []
   },
   "source": [
    "The 51 887 images describe 30 species. Again, the distribution is skewed. Frasiers dolphin specy is descibed by only 14 images, while Bottle nose dolphin (9664), Beluga (7443) and Humpback whale (7392) are over represented."
   ]
  },
  {
   "cell_type": "markdown",
   "id": "1b162ddb",
   "metadata": {
    "papermill": {
     "duration": 0.017148,
     "end_time": "2022-03-05T10:30:01.277350",
     "exception": false,
     "start_time": "2022-03-05T10:30:01.260202",
     "status": "completed"
    },
    "tags": []
   },
   "source": [
    "## How species are described\n",
    "\n",
    "So, all together, data contains 51 033 images of 15 587 individuals from 30 species."
   ]
  },
  {
   "cell_type": "code",
   "execution_count": 9,
   "id": "d6ef6e35",
   "metadata": {
    "execution": {
     "iopub.execute_input": "2022-03-05T10:30:01.325117Z",
     "iopub.status.busy": "2022-03-05T10:30:01.324144Z",
     "iopub.status.idle": "2022-03-05T10:30:01.382442Z",
     "shell.execute_reply": "2022-03-05T10:30:01.381828Z",
     "shell.execute_reply.started": "2022-03-05T10:18:47.098081Z"
    },
    "papermill": {
     "duration": 0.086583,
     "end_time": "2022-03-05T10:30:01.382597",
     "exception": false,
     "start_time": "2022-03-05T10:30:01.296014",
     "status": "completed"
    },
    "tags": []
   },
   "outputs": [
    {
     "data": {
      "text/html": [
       "<div>\n",
       "<style scoped>\n",
       "    .dataframe tbody tr th:only-of-type {\n",
       "        vertical-align: middle;\n",
       "    }\n",
       "\n",
       "    .dataframe tbody tr th {\n",
       "        vertical-align: top;\n",
       "    }\n",
       "\n",
       "    .dataframe thead th {\n",
       "        text-align: right;\n",
       "    }\n",
       "</style>\n",
       "<table border=\"1\" class=\"dataframe\">\n",
       "  <thead>\n",
       "    <tr style=\"text-align: right;\">\n",
       "      <th></th>\n",
       "      <th>images_count</th>\n",
       "      <th>individuals_count</th>\n",
       "      <th>ratio</th>\n",
       "    </tr>\n",
       "    <tr>\n",
       "      <th>species</th>\n",
       "      <th></th>\n",
       "      <th></th>\n",
       "      <th></th>\n",
       "    </tr>\n",
       "  </thead>\n",
       "  <tbody>\n",
       "    <tr>\n",
       "      <th>false_killer_whale</th>\n",
       "      <td>3326</td>\n",
       "      <td>196</td>\n",
       "      <td>16.969388</td>\n",
       "    </tr>\n",
       "    <tr>\n",
       "      <th>bottlenose_dolphin</th>\n",
       "      <td>9664</td>\n",
       "      <td>613</td>\n",
       "      <td>15.765090</td>\n",
       "    </tr>\n",
       "    <tr>\n",
       "      <th>kiler_whale</th>\n",
       "      <td>962</td>\n",
       "      <td>73</td>\n",
       "      <td>13.178082</td>\n",
       "    </tr>\n",
       "    <tr>\n",
       "      <th>minke_whale</th>\n",
       "      <td>1608</td>\n",
       "      <td>128</td>\n",
       "      <td>12.562500</td>\n",
       "    </tr>\n",
       "    <tr>\n",
       "      <th>common_dolphin</th>\n",
       "      <td>347</td>\n",
       "      <td>38</td>\n",
       "      <td>9.131579</td>\n",
       "    </tr>\n",
       "    <tr>\n",
       "      <th>beluga</th>\n",
       "      <td>7443</td>\n",
       "      <td>1012</td>\n",
       "      <td>7.354743</td>\n",
       "    </tr>\n",
       "    <tr>\n",
       "      <th>gray_whale</th>\n",
       "      <td>1123</td>\n",
       "      <td>185</td>\n",
       "      <td>6.070270</td>\n",
       "    </tr>\n",
       "    <tr>\n",
       "      <th>bottlenose_dolpin</th>\n",
       "      <td>1117</td>\n",
       "      <td>291</td>\n",
       "      <td>3.838488</td>\n",
       "    </tr>\n",
       "    <tr>\n",
       "      <th>killer_whale</th>\n",
       "      <td>1493</td>\n",
       "      <td>399</td>\n",
       "      <td>3.741855</td>\n",
       "    </tr>\n",
       "    <tr>\n",
       "      <th>brydes_whale</th>\n",
       "      <td>154</td>\n",
       "      <td>44</td>\n",
       "      <td>3.500000</td>\n",
       "    </tr>\n",
       "    <tr>\n",
       "      <th>pantropic_spotted_dolphin</th>\n",
       "      <td>145</td>\n",
       "      <td>44</td>\n",
       "      <td>3.295455</td>\n",
       "    </tr>\n",
       "    <tr>\n",
       "      <th>pygmy_killer_whale</th>\n",
       "      <td>76</td>\n",
       "      <td>24</td>\n",
       "      <td>3.166667</td>\n",
       "    </tr>\n",
       "    <tr>\n",
       "      <th>fin_whale</th>\n",
       "      <td>1324</td>\n",
       "      <td>466</td>\n",
       "      <td>2.841202</td>\n",
       "    </tr>\n",
       "    <tr>\n",
       "      <th>humpback_whale</th>\n",
       "      <td>7392</td>\n",
       "      <td>2679</td>\n",
       "      <td>2.759239</td>\n",
       "    </tr>\n",
       "    <tr>\n",
       "      <th>globis</th>\n",
       "      <td>116</td>\n",
       "      <td>48</td>\n",
       "      <td>2.416667</td>\n",
       "    </tr>\n",
       "    <tr>\n",
       "      <th>sei_whale</th>\n",
       "      <td>428</td>\n",
       "      <td>197</td>\n",
       "      <td>2.172589</td>\n",
       "    </tr>\n",
       "    <tr>\n",
       "      <th>blue_whale</th>\n",
       "      <td>4830</td>\n",
       "      <td>2348</td>\n",
       "      <td>2.057070</td>\n",
       "    </tr>\n",
       "    <tr>\n",
       "      <th>spinner_dolphin</th>\n",
       "      <td>1700</td>\n",
       "      <td>891</td>\n",
       "      <td>1.907969</td>\n",
       "    </tr>\n",
       "    <tr>\n",
       "      <th>cuviers_beaked_whale</th>\n",
       "      <td>341</td>\n",
       "      <td>183</td>\n",
       "      <td>1.863388</td>\n",
       "    </tr>\n",
       "    <tr>\n",
       "      <th>long_finned_pilot_whale</th>\n",
       "      <td>238</td>\n",
       "      <td>131</td>\n",
       "      <td>1.816794</td>\n",
       "    </tr>\n",
       "    <tr>\n",
       "      <th>spotted_dolphin</th>\n",
       "      <td>490</td>\n",
       "      <td>280</td>\n",
       "      <td>1.750000</td>\n",
       "    </tr>\n",
       "    <tr>\n",
       "      <th>short_finned_pilot_whale</th>\n",
       "      <td>367</td>\n",
       "      <td>214</td>\n",
       "      <td>1.714953</td>\n",
       "    </tr>\n",
       "    <tr>\n",
       "      <th>southern_right_whale</th>\n",
       "      <td>866</td>\n",
       "      <td>549</td>\n",
       "      <td>1.577413</td>\n",
       "    </tr>\n",
       "    <tr>\n",
       "      <th>pilot_whale</th>\n",
       "      <td>262</td>\n",
       "      <td>196</td>\n",
       "      <td>1.336735</td>\n",
       "    </tr>\n",
       "    <tr>\n",
       "      <th>white_sided_dolphin</th>\n",
       "      <td>229</td>\n",
       "      <td>175</td>\n",
       "      <td>1.308571</td>\n",
       "    </tr>\n",
       "    <tr>\n",
       "      <th>rough_toothed_dolphin</th>\n",
       "      <td>60</td>\n",
       "      <td>46</td>\n",
       "      <td>1.304348</td>\n",
       "    </tr>\n",
       "    <tr>\n",
       "      <th>commersons_dolphin</th>\n",
       "      <td>90</td>\n",
       "      <td>70</td>\n",
       "      <td>1.285714</td>\n",
       "    </tr>\n",
       "    <tr>\n",
       "      <th>melon_headed_whale</th>\n",
       "      <td>1689</td>\n",
       "      <td>1323</td>\n",
       "      <td>1.276644</td>\n",
       "    </tr>\n",
       "    <tr>\n",
       "      <th>dusky_dolphin</th>\n",
       "      <td>3139</td>\n",
       "      <td>2731</td>\n",
       "      <td>1.149396</td>\n",
       "    </tr>\n",
       "    <tr>\n",
       "      <th>frasiers_dolphin</th>\n",
       "      <td>14</td>\n",
       "      <td>13</td>\n",
       "      <td>1.076923</td>\n",
       "    </tr>\n",
       "  </tbody>\n",
       "</table>\n",
       "</div>"
      ],
      "text/plain": [
       "                           images_count  individuals_count      ratio\n",
       "species                                                              \n",
       "false_killer_whale                 3326                196  16.969388\n",
       "bottlenose_dolphin                 9664                613  15.765090\n",
       "kiler_whale                         962                 73  13.178082\n",
       "minke_whale                        1608                128  12.562500\n",
       "common_dolphin                      347                 38   9.131579\n",
       "beluga                             7443               1012   7.354743\n",
       "gray_whale                         1123                185   6.070270\n",
       "bottlenose_dolpin                  1117                291   3.838488\n",
       "killer_whale                       1493                399   3.741855\n",
       "brydes_whale                        154                 44   3.500000\n",
       "pantropic_spotted_dolphin           145                 44   3.295455\n",
       "pygmy_killer_whale                   76                 24   3.166667\n",
       "fin_whale                          1324                466   2.841202\n",
       "humpback_whale                     7392               2679   2.759239\n",
       "globis                              116                 48   2.416667\n",
       "sei_whale                           428                197   2.172589\n",
       "blue_whale                         4830               2348   2.057070\n",
       "spinner_dolphin                    1700                891   1.907969\n",
       "cuviers_beaked_whale                341                183   1.863388\n",
       "long_finned_pilot_whale             238                131   1.816794\n",
       "spotted_dolphin                     490                280   1.750000\n",
       "short_finned_pilot_whale            367                214   1.714953\n",
       "southern_right_whale                866                549   1.577413\n",
       "pilot_whale                         262                196   1.336735\n",
       "white_sided_dolphin                 229                175   1.308571\n",
       "rough_toothed_dolphin                60                 46   1.304348\n",
       "commersons_dolphin                   90                 70   1.285714\n",
       "melon_headed_whale                 1689               1323   1.276644\n",
       "dusky_dolphin                      3139               2731   1.149396\n",
       "frasiers_dolphin                     14                 13   1.076923"
      ]
     },
     "execution_count": 9,
     "metadata": {},
     "output_type": "execute_result"
    }
   ],
   "source": [
    "individuals_counts = df.drop(columns = ['image']).groupby(['species']).nunique().rename(columns = { 'individual_id': 'individuals_count'})\n",
    "counts = pd.merge(species, individuals_counts, how = 'left', on = ['species'])\n",
    "counts = counts.assign(ratio = counts.images_count / counts.individuals_count).sort_values(by = ['ratio'], ascending = False)\n",
    "counts"
   ]
  },
  {
   "cell_type": "code",
   "execution_count": 10,
   "id": "d341cf8d",
   "metadata": {
    "execution": {
     "iopub.execute_input": "2022-03-05T10:30:01.423906Z",
     "iopub.status.busy": "2022-03-05T10:30:01.422881Z",
     "iopub.status.idle": "2022-03-05T10:30:01.567391Z",
     "shell.execute_reply": "2022-03-05T10:30:01.568286Z",
     "shell.execute_reply.started": "2022-03-05T10:20:00.580252Z"
    },
    "papermill": {
     "duration": 0.167223,
     "end_time": "2022-03-05T10:30:01.568563",
     "exception": false,
     "start_time": "2022-03-05T10:30:01.401340",
     "status": "completed"
    },
    "tags": []
   },
   "outputs": [
    {
     "data": {
      "image/png": "[encoded data removed]",
      "text/plain": [
       "<Figure size 432x288 with 1 Axes>"
      ]
     },
     "metadata": {
      "needs_background": "light"
     },
     "output_type": "display_data"
    }
   ],
   "source": [
    "plt.hist(counts.ratio, density=True, facecolor='g', alpha=0.75)\n",
    "plt.show()"
   ]
  },
  {
   "cell_type": "markdown",
   "id": "d8b59e63",
   "metadata": {
    "papermill": {
     "duration": 0.017452,
     "end_time": "2022-03-05T10:30:01.604320",
     "exception": false,
     "start_time": "2022-03-05T10:30:01.586868",
     "status": "completed"
    },
    "tags": []
   },
   "source": [
    "Only few species have a good ratio. This will affect the prediction quality. Many species/individuals will be difficult to predict."
   ]
  }
 ],
 "metadata": {
  "kernelspec": {
   "display_name": "Python 3",
   "language": "python",
   "name": "python3"
  },
  "language_info": {
   "codemirror_mode": {
    "name": "ipython",
    "version": 3
   },
   "file_extension": ".py",
   "mimetype": "text/x-python",
   "name": "python",
   "nbconvert_exporter": "python",
   "pygments_lexer": "ipython3",
   "version": "3.7.12"
  },
  "papermill": {
   "default_parameters": {},
   "duration": 12.566713,
   "end_time": "2022-03-05T10:30:02.333021",
   "environment_variables": {},
   "exception": null,
   "input_path": "__notebook__.ipynb",
   "output_path": "__notebook__.ipynb",
   "parameters": {},
   "start_time": "2022-03-05T10:29:49.766308",
   "version": "2.3.3"
  }
 },
 "nbformat": 4,
 "nbformat_minor": 5
}
