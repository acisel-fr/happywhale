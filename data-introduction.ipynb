{
 "cells": [
  {
   "cell_type": "markdown",
   "id": "ce741ac3",
   "metadata": {
    "papermill": {
     "duration": 0.008611,
     "end_time": "2022-03-05T08:40:30.706085",
     "exception": false,
     "start_time": "2022-03-05T08:40:30.697474",
     "status": "completed"
    },
    "tags": []
   },
   "source": [
    "# Introduction to Happywhale competition\n",
    "\n",
    "To have a first look at the [data](https://www.kaggle.com/c/happy-whale-and-dolphin/data), you have to add the data through the Kaggle UI. They are afterwards located in /kaggle/input/happy-whale-and-dolphin folder."
   ]
  },
  {
   "cell_type": "code",
   "execution_count": 1,
   "id": "550b3b4f",
   "metadata": {
    "_kg_hide-input": true,
    "execution": {
     "iopub.execute_input": "2022-03-05T08:40:30.725517Z",
     "iopub.status.busy": "2022-03-05T08:40:30.724151Z",
     "iopub.status.idle": "2022-03-05T08:40:31.535181Z",
     "shell.execute_reply": "2022-03-05T08:40:31.534339Z",
     "shell.execute_reply.started": "2022-03-05T08:31:47.871320Z"
    },
    "papermill": {
     "duration": 0.822194,
     "end_time": "2022-03-05T08:40:31.535381",
     "exception": false,
     "start_time": "2022-03-05T08:40:30.713187",
     "status": "completed"
    },
    "tags": []
   },
   "outputs": [
    {
     "name": "stdout",
     "output_type": "stream",
     "text": [
      "total 4668\r\n",
      "-rw-r--r-- 1 nobody nogroup 2404234 Feb  1 16:58 sample_submission.csv\r\n",
      "drwxr-xr-x 2 nobody nogroup       0 Feb  1 17:00 test_images\r\n",
      "-rw-r--r-- 1 nobody nogroup 2371769 Feb  1 17:00 train.csv\r\n",
      "drwxr-xr-x 2 nobody nogroup       0 Feb  1 17:04 train_images\r\n"
     ]
    }
   ],
   "source": [
    "!ls -l /kaggle/input/happy-whale-and-dolphin"
   ]
  },
  {
   "cell_type": "markdown",
   "id": "dfe79efb",
   "metadata": {
    "papermill": {
     "duration": 0.007406,
     "end_time": "2022-03-05T08:40:31.551307",
     "exception": false,
     "start_time": "2022-03-05T08:40:31.543901",
     "status": "completed"
    },
    "tags": []
   },
   "source": [
    "Let’s load the metadata in 'train.csv' file."
   ]
  },
  {
   "cell_type": "code",
   "execution_count": 2,
   "id": "434d217c",
   "metadata": {
    "_cell_guid": "b1076dfc-b9ad-4769-8c92-a6c4dae69d19",
    "_uuid": "8f2839f25d086af736a60e9eeb907d3b93b6e0e5",
    "execution": {
     "iopub.execute_input": "2022-03-05T08:40:31.574137Z",
     "iopub.status.busy": "2022-03-05T08:40:31.573051Z",
     "iopub.status.idle": "2022-03-05T08:40:31.695009Z",
     "shell.execute_reply": "2022-03-05T08:40:31.694423Z",
     "shell.execute_reply.started": "2022-03-05T08:37:52.476935Z"
    },
    "papermill": {
     "duration": 0.136021,
     "end_time": "2022-03-05T08:40:31.695231",
     "exception": false,
     "start_time": "2022-03-05T08:40:31.559210",
     "status": "completed"
    },
    "tags": []
   },
   "outputs": [
    {
     "data": {
      "text/html": [
       "<div>\n",
       "<style scoped>\n",
       "    .dataframe tbody tr th:only-of-type {\n",
       "        vertical-align: middle;\n",
       "    }\n",
       "\n",
       "    .dataframe tbody tr th {\n",
       "        vertical-align: top;\n",
       "    }\n",
       "\n",
       "    .dataframe thead th {\n",
       "        text-align: right;\n",
       "    }\n",
       "</style>\n",
       "<table border=\"1\" class=\"dataframe\">\n",
       "  <thead>\n",
       "    <tr style=\"text-align: right;\">\n",
       "      <th></th>\n",
       "      <th>image</th>\n",
       "      <th>species</th>\n",
       "      <th>individual_id</th>\n",
       "    </tr>\n",
       "  </thead>\n",
       "  <tbody>\n",
       "    <tr>\n",
       "      <th>0</th>\n",
       "      <td>00021adfb725ed.jpg</td>\n",
       "      <td>melon_headed_whale</td>\n",
       "      <td>cadddb1636b9</td>\n",
       "    </tr>\n",
       "    <tr>\n",
       "      <th>1</th>\n",
       "      <td>000562241d384d.jpg</td>\n",
       "      <td>humpback_whale</td>\n",
       "      <td>1a71fbb72250</td>\n",
       "    </tr>\n",
       "    <tr>\n",
       "      <th>2</th>\n",
       "      <td>0007c33415ce37.jpg</td>\n",
       "      <td>false_killer_whale</td>\n",
       "      <td>60008f293a2b</td>\n",
       "    </tr>\n",
       "    <tr>\n",
       "      <th>3</th>\n",
       "      <td>0007d9bca26a99.jpg</td>\n",
       "      <td>bottlenose_dolphin</td>\n",
       "      <td>4b00fe572063</td>\n",
       "    </tr>\n",
       "    <tr>\n",
       "      <th>4</th>\n",
       "      <td>00087baf5cef7a.jpg</td>\n",
       "      <td>humpback_whale</td>\n",
       "      <td>8e5253662392</td>\n",
       "    </tr>\n",
       "    <tr>\n",
       "      <th>...</th>\n",
       "      <td>...</td>\n",
       "      <td>...</td>\n",
       "      <td>...</td>\n",
       "    </tr>\n",
       "    <tr>\n",
       "      <th>51028</th>\n",
       "      <td>fff639a7a78b3f.jpg</td>\n",
       "      <td>beluga</td>\n",
       "      <td>5ac053677ed1</td>\n",
       "    </tr>\n",
       "    <tr>\n",
       "      <th>51029</th>\n",
       "      <td>fff8b32daff17e.jpg</td>\n",
       "      <td>cuviers_beaked_whale</td>\n",
       "      <td>1184686361b3</td>\n",
       "    </tr>\n",
       "    <tr>\n",
       "      <th>51030</th>\n",
       "      <td>fff94675cc1aef.jpg</td>\n",
       "      <td>blue_whale</td>\n",
       "      <td>5401612696b9</td>\n",
       "    </tr>\n",
       "    <tr>\n",
       "      <th>51031</th>\n",
       "      <td>fffbc5dd642d8c.jpg</td>\n",
       "      <td>beluga</td>\n",
       "      <td>4000b3d7c24e</td>\n",
       "    </tr>\n",
       "    <tr>\n",
       "      <th>51032</th>\n",
       "      <td>fffdcd42312777.jpg</td>\n",
       "      <td>bottlenose_dolphin</td>\n",
       "      <td>4ddb2eeb5efb</td>\n",
       "    </tr>\n",
       "  </tbody>\n",
       "</table>\n",
       "<p>51033 rows × 3 columns</p>\n",
       "</div>"
      ],
      "text/plain": [
       "                    image               species individual_id\n",
       "0      00021adfb725ed.jpg    melon_headed_whale  cadddb1636b9\n",
       "1      000562241d384d.jpg        humpback_whale  1a71fbb72250\n",
       "2      0007c33415ce37.jpg    false_killer_whale  60008f293a2b\n",
       "3      0007d9bca26a99.jpg    bottlenose_dolphin  4b00fe572063\n",
       "4      00087baf5cef7a.jpg        humpback_whale  8e5253662392\n",
       "...                   ...                   ...           ...\n",
       "51028  fff639a7a78b3f.jpg                beluga  5ac053677ed1\n",
       "51029  fff8b32daff17e.jpg  cuviers_beaked_whale  1184686361b3\n",
       "51030  fff94675cc1aef.jpg            blue_whale  5401612696b9\n",
       "51031  fffbc5dd642d8c.jpg                beluga  4000b3d7c24e\n",
       "51032  fffdcd42312777.jpg    bottlenose_dolphin  4ddb2eeb5efb\n",
       "\n",
       "[51033 rows x 3 columns]"
      ]
     },
     "execution_count": 2,
     "metadata": {},
     "output_type": "execute_result"
    }
   ],
   "source": [
    "import pandas as pd\n",
    "df = pd.read_csv(\"/kaggle/input/happy-whale-and-dolphin/train.csv\")\n",
    "df"
   ]
  },
  {
   "cell_type": "markdown",
   "id": "6c915446",
   "metadata": {
    "papermill": {
     "duration": 0.009035,
     "end_time": "2022-03-05T08:40:31.713248",
     "exception": false,
     "start_time": "2022-03-05T08:40:31.704213",
     "status": "completed"
    },
    "tags": []
   },
   "source": [
    "We can notice that our train data has 51033 items described by 3 fields."
   ]
  },
  {
   "cell_type": "code",
   "execution_count": 3,
   "id": "70f64965",
   "metadata": {
    "execution": {
     "iopub.execute_input": "2022-03-05T08:40:31.733433Z",
     "iopub.status.busy": "2022-03-05T08:40:31.732690Z",
     "iopub.status.idle": "2022-03-05T08:40:31.738487Z",
     "shell.execute_reply": "2022-03-05T08:40:31.739258Z",
     "shell.execute_reply.started": "2022-03-05T08:37:55.626669Z"
    },
    "papermill": {
     "duration": 0.018055,
     "end_time": "2022-03-05T08:40:31.739465",
     "exception": false,
     "start_time": "2022-03-05T08:40:31.721410",
     "status": "completed"
    },
    "tags": []
   },
   "outputs": [
    {
     "data": {
      "text/plain": [
       "(51033, 3)"
      ]
     },
     "execution_count": 3,
     "metadata": {},
     "output_type": "execute_result"
    }
   ],
   "source": [
    "df.shape"
   ]
  }
 ],
 "metadata": {
  "kernelspec": {
   "display_name": "Python 3",
   "language": "python",
   "name": "python3"
  },
  "language_info": {
   "codemirror_mode": {
    "name": "ipython",
    "version": 3
   },
   "file_extension": ".py",
   "mimetype": "text/x-python",
   "name": "python",
   "nbconvert_exporter": "python",
   "pygments_lexer": "ipython3",
   "version": "3.7.12"
  },
  "papermill": {
   "default_parameters": {},
   "duration": 12.06343,
   "end_time": "2022-03-05T08:40:32.460481",
   "environment_variables": {},
   "exception": null,
   "input_path": "__notebook__.ipynb",
   "output_path": "__notebook__.ipynb",
   "parameters": {},
   "start_time": "2022-03-05T08:40:20.397051",
   "version": "2.3.3"
  }
 },
 "nbformat": 4,
 "nbformat_minor": 5
}
